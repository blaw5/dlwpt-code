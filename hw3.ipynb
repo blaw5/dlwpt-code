{
  "cells": [
    {
      "cell_type": "markdown",
      "metadata": {
        "id": "view-in-github",
        "colab_type": "text"
      },
      "source": [
        "<a href=\"https://colab.research.google.com/github/blaw5/dlwpt-code/blob/master/hw3.ipynb\" target=\"_parent\"><img src=\"https://colab.research.google.com/assets/colab-badge.svg\" alt=\"Open In Colab\"/></a>"
      ]
    },
    {
      "cell_type": "markdown",
      "metadata": {
        "id": "XSnGR7G7OlFE"
      },
      "source": [
        "Problem 1 Part 1"
      ]
    },
    {
      "cell_type": "code",
      "execution_count": 1,
      "metadata": {
        "id": "nzxwsRjxOb_6"
      },
      "outputs": [],
      "source": [
        "import numpy as np \n",
        "import pandas as pd \n",
        "import torch\n",
        "import torchvision\n",
        "import torch.optim as optim\n",
        "import torch.nn as nn\n",
        "# Data Visualisation \n",
        "import matplotlib.pyplot as plt "
      ]
    },
    {
      "cell_type": "code",
      "execution_count": 2,
      "metadata": {
        "id": "8TN5vLKyOnt8"
      },
      "outputs": [],
      "source": [
        "housing = pd.DataFrame(pd.read_csv\n",
        "                  (\"../content/drive/MyDrive/ColabNotebooks/data/Housing.csv\"))"
      ]
    },
    {
      "cell_type": "code",
      "execution_count": 3,
      "metadata": {
        "id": "oenznZ1tRHrZ"
      },
      "outputs": [],
      "source": [
        "vars = ['area','bedrooms','bathrooms','stories','parking','price']\n",
        "data = housing[vars]\n",
        "from sklearn.preprocessing import MinMaxScaler, StandardScaler \n",
        "scaler = MinMaxScaler()\n",
        "newSet = scaler.fit_transform(data)\n",
        "\n",
        "t_u = torch.from_numpy(newSet[0:545, 0:5]).float()\n",
        "t_c = torch.from_numpy(newSet[0:545, 5:6]).float()"
      ]
    },
    {
      "cell_type": "code",
      "execution_count": 4,
      "metadata": {
        "id": "T_DS-OzbS8RP"
      },
      "outputs": [],
      "source": [
        "n_samples = t_u.shape[0]\n",
        "nval = int(0.2 * n_samples) #80% Training 20% Vali\n",
        "shuffled_indices = torch.randperm(n_samples)\n",
        "train_indices = shuffled_indices[:-nval]\n",
        "val_indices = shuffled_indices[-nval:]"
      ]
    },
    {
      "cell_type": "code",
      "execution_count": 5,
      "metadata": {
        "id": "pK7bju3OVUuP"
      },
      "outputs": [],
      "source": [
        "train_t_u = t_u[train_indices]\n",
        "train_t_c = t_c[train_indices]\n",
        "\n",
        "val_t_u = t_u[val_indices]\n",
        "val_t_c = t_c[val_indices]"
      ]
    },
    {
      "cell_type": "code",
      "execution_count": 6,
      "metadata": {
        "id": "NQzqZ2qlO6F-"
      },
      "outputs": [],
      "source": [
        "linear_model = nn.Sequential(\n",
        "nn.Linear(5, 8),\n",
        "nn.Tanh(),\n",
        "nn.Linear(8, 1))"
      ]
    },
    {
      "cell_type": "code",
      "execution_count": 7,
      "metadata": {
        "id": "U_i4WKYzScYq"
      },
      "outputs": [],
      "source": [
        "optimizer = optim.SGD(\n",
        "    linear_model.parameters(),\n",
        "    lr = 1e-2)"
      ]
    },
    {
      "cell_type": "code",
      "execution_count": 8,
      "metadata": {
        "id": "I-m9-bx-Q4i5"
      },
      "outputs": [],
      "source": [
        "def training_loop(n_epochs, optimizer, model, loss_fn, t_u_train, t_u_val,\n",
        "t_c_train, t_c_val):\n",
        "  t_predicted = []\n",
        "  for epoch in range(1, n_epochs + 1):\n",
        "    t_p_train = model(t_u_train)\n",
        "    loss_train = loss_fn(t_p_train, t_c_train)\n",
        "\n",
        "    t_p_val = model(t_u_val)\n",
        "\n",
        "    loss_val = loss_fn(t_p_val, t_c_val)\n",
        "    t_predicted.append(loss_val.item())\n",
        "    optimizer.zero_grad()\n",
        "    loss_train.backward()\n",
        "    optimizer.step()\n",
        "\n",
        "    if epoch == 1 or epoch % 20 == 0:\n",
        "      print(f\"Epoch {epoch}, Training loss {loss_train.item():.4f},\"\n",
        "      f\" Validation loss {loss_val.item():.4f}\")\n",
        "  import matplotlib.pyplot as plt\n",
        " \n",
        "  #print(np.asarray(t_predicted))\n",
        "  fig = plt.figure(dpi = 100)\n",
        "  step = np.linspace(0,n_epochs,n_epochs)\n",
        "  plt.xlabel(\"Epochs\")\n",
        "  plt.ylabel(\"Loss\")\n",
        "  plt.plot(step,np.array(t_predicted))\n",
        "  #plt.plot(t_c_train + t_predicted, 'c-')\n",
        "  #plt.plot(t_c_train, 'o')"
      ]
    },
    {
      "cell_type": "code",
      "execution_count": 9,
      "metadata": {
        "colab": {
          "base_uri": "https://localhost:8080/",
          "height": 573
        },
        "id": "I_CPRLdiZWur",
        "outputId": "e540ab34-1c3c-4e7f-97d9-68c4d4050677"
      },
      "outputs": [
        {
          "output_type": "stream",
          "name": "stdout",
          "text": [
            "Epoch 1, Training loss 0.3947, Validation loss 0.3932\n",
            "Epoch 20, Training loss 0.0948, Validation loss 0.0965\n",
            "Epoch 40, Training loss 0.0412, Validation loss 0.0442\n",
            "Epoch 60, Training loss 0.0323, Validation loss 0.0359\n",
            "Epoch 80, Training loss 0.0302, Validation loss 0.0340\n",
            "Epoch 100, Training loss 0.0291, Validation loss 0.0331\n",
            "Epoch 120, Training loss 0.0283, Validation loss 0.0323\n",
            "Epoch 140, Training loss 0.0275, Validation loss 0.0316\n",
            "Epoch 160, Training loss 0.0268, Validation loss 0.0309\n",
            "Epoch 180, Training loss 0.0261, Validation loss 0.0303\n",
            "Epoch 200, Training loss 0.0255, Validation loss 0.0297\n"
          ]
        },
        {
          "output_type": "display_data",
          "data": {
            "image/png": "[encoded data removed]",
            "text/plain": [
              "<Figure size 600x400 with 1 Axes>"
            ]
          },
          "metadata": {
            "needs_background": "light"
          }
        }
      ],
      "source": [
        "training_loop(\n",
        "n_epochs = 200,\n",
        "optimizer = optimizer,\n",
        "model = linear_model,\n",
        "loss_fn = nn.MSELoss(),\n",
        "t_u_train = train_t_u,\n",
        "t_u_val = val_t_u,\n",
        "t_c_train = train_t_c,\n",
        "t_c_val = val_t_c)"
      ]
    },
    {
      "cell_type": "markdown",
      "metadata": {
        "id": "p9S4Md0qpZV3"
      },
      "source": [
        "Problem 1 Part 2\n"
      ]
    },
    {
      "cell_type": "code",
      "execution_count": 10,
      "metadata": {
        "id": "DPxsZ8gJpdeZ"
      },
      "outputs": [],
      "source": [
        "linear_model_2 = nn.Sequential(\n",
        "nn.Linear(5, 8),\n",
        "nn.Tanh(),\n",
        "nn.Linear(8, 4),\n",
        "nn.Tanh(),\n",
        "nn.Linear(4, 2),\n",
        "nn.Tanh(),\n",
        "nn.Linear(2, 1))"
      ]
    },
    {
      "cell_type": "code",
      "execution_count": 11,
      "metadata": {
        "id": "10K_AFpjIpf_"
      },
      "outputs": [],
      "source": [
        "optimizer_2 = optim.SGD(\n",
        "    linear_model_2.parameters(),\n",
        "    lr = 1e-2)"
      ]
    },
    {
      "cell_type": "code",
      "execution_count": 12,
      "metadata": {
        "colab": {
          "base_uri": "https://localhost:8080/",
          "height": 573
        },
        "id": "B7W2LF_UqYYE",
        "outputId": "6f5a7e78-79cc-4083-e7ae-636545b4b694"
      },
      "outputs": [
        {
          "output_type": "stream",
          "name": "stdout",
          "text": [
            "Epoch 1, Training loss 0.0395, Validation loss 0.0448\n",
            "Epoch 20, Training loss 0.0285, Validation loss 0.0334\n",
            "Epoch 40, Training loss 0.0257, Validation loss 0.0305\n",
            "Epoch 60, Training loss 0.0251, Validation loss 0.0297\n",
            "Epoch 80, Training loss 0.0249, Validation loss 0.0295\n",
            "Epoch 100, Training loss 0.0248, Validation loss 0.0294\n",
            "Epoch 120, Training loss 0.0247, Validation loss 0.0293\n",
            "Epoch 140, Training loss 0.0246, Validation loss 0.0292\n",
            "Epoch 160, Training loss 0.0245, Validation loss 0.0292\n",
            "Epoch 180, Training loss 0.0245, Validation loss 0.0291\n",
            "Epoch 200, Training loss 0.0244, Validation loss 0.0290\n"
          ]
        },
        {
          "output_type": "display_data",
          "data": {
            "image/png": "[encoded data removed]",
            "text/plain": [
              "<Figure size 600x400 with 1 Axes>"
            ]
          },
          "metadata": {
            "needs_background": "light"
          }
        }
      ],
      "source": [
        "training_loop(\n",
        "n_epochs = 200,\n",
        "optimizer = optimizer_2,\n",
        "model = linear_model_2,\n",
        "loss_fn = nn.MSELoss(),\n",
        "t_u_train = train_t_u,\n",
        "t_u_val = val_t_u,\n",
        "t_c_train = train_t_c,\n",
        "t_c_val = val_t_c)"
      ]
    },
    {
      "cell_type": "markdown",
      "metadata": {
        "id": "VyCUZfXJaBxL"
      },
      "source": [
        "Problem 2 Part 1\n",
        "\n"
      ]
    },
    {
      "cell_type": "code",
      "execution_count": 33,
      "metadata": {
        "colab": {
          "base_uri": "https://localhost:8080/"
        },
        "id": "C_gYnF-bdJ9v",
        "outputId": "6ddbc479-967c-4ec0-8de5-df1f15382b19"
      },
      "outputs": [
        {
          "output_type": "stream",
          "name": "stdout",
          "text": [
            "Files already downloaded and verified\n",
            "Files already downloaded and verified\n"
          ]
        }
      ],
      "source": [
        "from torchvision import datasets\n",
        "import torch\n",
        "import torch.nn as nn\n",
        "import torch.optim as optim\n",
        "from torchvision import transforms\n",
        "data_path = \"../content/drive/MyDrive/ColabNotebooks/data/hw3/\"\n",
        "cifar10_origin = datasets.CIFAR10(data_path, train = True, download = True)\n",
        "cifar10_val_origin = datasets.CIFAR10(data_path, train = False, download = True)"
      ]
    },
    {
      "cell_type": "code",
      "execution_count": 34,
      "metadata": {
        "colab": {
          "base_uri": "https://localhost:8080/"
        },
        "id": "PZ4gexj8kKOV",
        "outputId": "5b74753f-274d-4149-ec8b-6476ab5f3347"
      },
      "outputs": [
        {
          "output_type": "stream",
          "name": "stdout",
          "text": [
            "tensor([0.4914, 0.4822, 0.4465])\n",
            "tensor([0.2470, 0.2435, 0.2616])\n"
          ]
        }
      ],
      "source": [
        "tensor_cifar10 = datasets.CIFAR10(data_path, train = True, download = False, \n",
        "                                  transform=transforms.ToTensor())\n",
        "img_t, _ = tensor_cifar10[99]\n",
        "imgs = torch.stack([img_t for img_t, _ in tensor_cifar10],dim=3)\n",
        "print(imgs.view(3,-1).mean(dim=1))\n",
        "print(imgs.view(3,-1).std(dim=1))"
      ]
    },
    {
      "cell_type": "code",
      "execution_count": 35,
      "metadata": {
        "colab": {
          "base_uri": "https://localhost:8080/"
        },
        "id": "tTeUnGiBpRPc",
        "outputId": "c59723b9-5bf3-42df-90ac-2307266efae4"
      },
      "outputs": [
        {
          "output_type": "stream",
          "name": "stdout",
          "text": [
            "tensor([0.4942, 0.4851, 0.4504])\n",
            "tensor([0.2467, 0.2429, 0.2616])\n"
          ]
        }
      ],
      "source": [
        "tensor_cifar10_val = datasets.CIFAR10(data_path, train = False, \n",
        "                                      download = False, \n",
        "                                      transform=transforms.ToTensor())\n",
        "img_t_v = tensor_cifar10_val[99]\n",
        "imgs_v = torch.stack([img_t_v for img_t_v, _ in tensor_cifar10_val],dim=3)\n",
        "print(imgs_v.view(3,-1).mean(dim=1))\n",
        "print(imgs_v.view(3,-1).std(dim=1))"
      ]
    },
    {
      "cell_type": "code",
      "execution_count": 36,
      "metadata": {
        "id": "dzT0fA6Imw9g"
      },
      "outputs": [],
      "source": [
        "transformed_cifar10 = datasets.CIFAR10(\n",
        "    data_path, train=True, download= False,\n",
        "    transform=transforms.Compose([\n",
        "    transforms.ToTensor(),\n",
        "    transforms.Normalize(\n",
        "        (0.4914, 0.4822, 0.4465), (0.2470, 0.2435, 0.2616))])\n",
        ")"
      ]
    },
    {
      "cell_type": "code",
      "execution_count": 37,
      "metadata": {
        "id": "xFDMz82epfC8"
      },
      "outputs": [],
      "source": [
        "transformed_cifar10_val = datasets.CIFAR10(\n",
        "    data_path, train=False, download= False,\n",
        "    transform=transforms.Compose([\n",
        "    transforms.ToTensor(),\n",
        "    transforms.Normalize(\n",
        "        (0.4942, 0.4851, 0.4504), (0.2467, 0.2429, 0.2616))])\n",
        ")"
      ]
    },
    {
      "cell_type": "code",
      "execution_count": null,
      "metadata": {
        "id": "ZZfmHnnCi-zB"
      },
      "outputs": [],
      "source": [
        "#label_map = {0:0, 2:1}\n",
        "#class_names = ['airplane', 'automobile', 'bird', 'cat', 'deer', 'dog', 'frog', \n",
        "#               'horse', 'ship', 'truck']\n",
        "#cifar10 = [(img, label_map[label])]\n",
        "#            for img, label in cifar10_origin\n",
        "#            if label in [0, 2]\n",
        "#cifar10_val = [(img, label_map[label])\n",
        "#              for img, label in cifar10_val_origin\n",
        " #             if label in [0,2]]"
      ]
    },
    {
      "cell_type": "code",
      "execution_count": 38,
      "metadata": {
        "id": "vXcPutlwe29f"
      },
      "outputs": [],
      "source": [
        "train_loader = torch.utils.data.DataLoader(transformed_cifar10, batch_size = 64, \n",
        "                                           shuffle = True)\n",
        "n_out = 10 #All 10 classes\n",
        "\n",
        "model = nn.Sequential(\n",
        "    nn.Linear(\n",
        "        3072, #in features\n",
        "        512, #hidden \n",
        "    ),\n",
        "    nn.Tanh(),\n",
        "    nn.Linear(\n",
        "        512, #hidden\n",
        "        n_out,\n",
        "    ),\n",
        "    nn.LogSoftmax(dim=1)\n",
        ")"
      ]
    },
    {
      "cell_type": "code",
      "execution_count": 39,
      "metadata": {
        "id": "Kmy3u6s5gw2O"
      },
      "outputs": [],
      "source": [
        "learning_rate = 1e-2\n",
        "optimizer_ = optim.SGD(model.parameters(), lr = learning_rate)\n",
        "loss_fn = nn.NLLLoss()\n",
        "n_epochs = 300"
      ]
    },
    {
      "cell_type": "code",
      "execution_count": 40,
      "metadata": {
        "colab": {
          "base_uri": "https://localhost:8080/",
          "height": 1000
        },
        "id": "pSu9DUZNh0Tl",
        "outputId": "70f25cd4-9c91-4705-9464-0df05524d3e0"
      },
      "outputs": [
        {
          "output_type": "stream",
          "name": "stdout",
          "text": [
            "Epoch: 0, Loss: 2.120220\n",
            "Epoch: 1, Loss: 1.478003\n",
            "Epoch: 2, Loss: 1.213004\n",
            "Epoch: 3, Loss: 1.676496\n",
            "Epoch: 4, Loss: 1.330921\n",
            "Epoch: 5, Loss: 1.663765\n",
            "Epoch: 6, Loss: 1.424093\n",
            "Epoch: 7, Loss: 1.155605\n",
            "Epoch: 8, Loss: 1.877554\n",
            "Epoch: 9, Loss: 1.441633\n",
            "Epoch: 10, Loss: 1.612073\n",
            "Epoch: 11, Loss: 1.212984\n",
            "Epoch: 12, Loss: 1.531724\n",
            "Epoch: 13, Loss: 1.234742\n",
            "Epoch: 14, Loss: 1.099078\n",
            "Epoch: 15, Loss: 1.369407\n",
            "Epoch: 16, Loss: 1.148227\n",
            "Epoch: 17, Loss: 0.878949\n",
            "Epoch: 18, Loss: 1.303436\n",
            "Epoch: 19, Loss: 1.545940\n",
            "Epoch: 20, Loss: 0.759748\n",
            "Epoch: 21, Loss: 0.841729\n",
            "Epoch: 22, Loss: 1.691596\n",
            "Epoch: 23, Loss: 0.775674\n",
            "Epoch: 24, Loss: 0.652692\n",
            "Epoch: 25, Loss: 0.687855\n",
            "Epoch: 26, Loss: 0.962165\n",
            "Epoch: 27, Loss: 0.597424\n",
            "Epoch: 28, Loss: 1.001883\n",
            "Epoch: 29, Loss: 0.613220\n",
            "Epoch: 30, Loss: 0.770170\n",
            "Epoch: 31, Loss: 0.821476\n",
            "Epoch: 32, Loss: 0.454166\n",
            "Epoch: 33, Loss: 0.711074\n",
            "Epoch: 34, Loss: 0.789342\n",
            "Epoch: 35, Loss: 0.527161\n",
            "Epoch: 36, Loss: 0.312183\n",
            "Epoch: 37, Loss: 0.476491\n",
            "Epoch: 38, Loss: 0.611889\n",
            "Epoch: 39, Loss: 0.313573\n",
            "Epoch: 40, Loss: 0.672084\n",
            "Epoch: 41, Loss: 0.613305\n",
            "Epoch: 42, Loss: 0.550473\n",
            "Epoch: 43, Loss: 0.452399\n",
            "Epoch: 44, Loss: 0.225509\n",
            "Epoch: 45, Loss: 0.578859\n",
            "Epoch: 46, Loss: 0.531029\n",
            "Epoch: 47, Loss: 0.511467\n",
            "Epoch: 48, Loss: 0.132240\n",
            "Epoch: 49, Loss: 0.217051\n",
            "Epoch: 50, Loss: 0.157011\n",
            "Epoch: 51, Loss: 0.490119\n",
            "Epoch: 52, Loss: 0.166759\n",
            "Epoch: 53, Loss: 0.261289\n",
            "Epoch: 54, Loss: 0.246773\n",
            "Epoch: 55, Loss: 0.109600\n",
            "Epoch: 56, Loss: 0.206544\n",
            "Epoch: 57, Loss: 0.349445\n",
            "Epoch: 58, Loss: 0.138342\n",
            "Epoch: 59, Loss: 0.232321\n",
            "Epoch: 60, Loss: 0.239537\n",
            "Epoch: 61, Loss: 0.202460\n",
            "Epoch: 62, Loss: 0.117112\n",
            "Epoch: 63, Loss: 0.069645\n",
            "Epoch: 64, Loss: 0.140211\n",
            "Epoch: 65, Loss: 0.234782\n",
            "Epoch: 66, Loss: 0.102233\n",
            "Epoch: 67, Loss: 0.100925\n",
            "Epoch: 68, Loss: 0.121818\n",
            "Epoch: 69, Loss: 0.110839\n",
            "Epoch: 70, Loss: 0.070291\n",
            "Epoch: 71, Loss: 0.111663\n",
            "Epoch: 72, Loss: 0.090498\n",
            "Epoch: 73, Loss: 0.080634\n",
            "Epoch: 74, Loss: 0.064957\n",
            "Epoch: 75, Loss: 0.080351\n",
            "Epoch: 76, Loss: 0.070889\n",
            "Epoch: 77, Loss: 0.085062\n",
            "Epoch: 78, Loss: 0.084279\n",
            "Epoch: 79, Loss: 0.088241\n",
            "Epoch: 80, Loss: 0.056550\n",
            "Epoch: 81, Loss: 0.055802\n",
            "Epoch: 82, Loss: 0.057144\n",
            "Epoch: 83, Loss: 0.045172\n",
            "Epoch: 84, Loss: 0.067253\n",
            "Epoch: 85, Loss: 0.055246\n",
            "Epoch: 86, Loss: 0.084270\n",
            "Epoch: 87, Loss: 0.046234\n",
            "Epoch: 88, Loss: 0.061506\n",
            "Epoch: 89, Loss: 0.087735\n",
            "Epoch: 90, Loss: 0.039367\n",
            "Epoch: 91, Loss: 0.072530\n",
            "Epoch: 92, Loss: 0.034271\n",
            "Epoch: 93, Loss: 0.061319\n",
            "Epoch: 94, Loss: 0.039466\n",
            "Epoch: 95, Loss: 0.051208\n",
            "Epoch: 96, Loss: 0.078294\n",
            "Epoch: 97, Loss: 0.078322\n",
            "Epoch: 98, Loss: 0.046795\n",
            "Epoch: 99, Loss: 0.029264\n",
            "Epoch: 100, Loss: 0.050002\n",
            "Epoch: 101, Loss: 0.066254\n",
            "Epoch: 102, Loss: 0.050753\n",
            "Epoch: 103, Loss: 0.034807\n",
            "Epoch: 104, Loss: 0.023248\n",
            "Epoch: 105, Loss: 0.046908\n",
            "Epoch: 106, Loss: 0.025333\n",
            "Epoch: 107, Loss: 0.060932\n",
            "Epoch: 108, Loss: 0.025366\n",
            "Epoch: 109, Loss: 0.031510\n",
            "Epoch: 110, Loss: 0.040344\n",
            "Epoch: 111, Loss: 0.050210\n",
            "Epoch: 112, Loss: 0.027500\n",
            "Epoch: 113, Loss: 0.039757\n",
            "Epoch: 114, Loss: 0.029016\n",
            "Epoch: 115, Loss: 0.038857\n",
            "Epoch: 116, Loss: 0.037411\n",
            "Epoch: 117, Loss: 0.029096\n",
            "Epoch: 118, Loss: 0.018627\n",
            "Epoch: 119, Loss: 0.041732\n",
            "Epoch: 120, Loss: 0.026355\n",
            "Epoch: 121, Loss: 0.032298\n",
            "Epoch: 122, Loss: 0.029342\n",
            "Epoch: 123, Loss: 0.039342\n",
            "Epoch: 124, Loss: 0.019101\n",
            "Epoch: 125, Loss: 0.026416\n",
            "Epoch: 126, Loss: 0.019983\n",
            "Epoch: 127, Loss: 0.024353\n",
            "Epoch: 128, Loss: 0.025587\n",
            "Epoch: 129, Loss: 0.033757\n",
            "Epoch: 130, Loss: 0.014365\n",
            "Epoch: 131, Loss: 0.037310\n",
            "Epoch: 132, Loss: 0.017069\n",
            "Epoch: 133, Loss: 0.023121\n",
            "Epoch: 134, Loss: 0.020557\n",
            "Epoch: 135, Loss: 0.017636\n",
            "Epoch: 136, Loss: 0.018658\n",
            "Epoch: 137, Loss: 0.027472\n",
            "Epoch: 138, Loss: 0.015873\n",
            "Epoch: 139, Loss: 0.017605\n",
            "Epoch: 140, Loss: 0.015094\n",
            "Epoch: 141, Loss: 0.021620\n",
            "Epoch: 142, Loss: 0.015958\n",
            "Epoch: 143, Loss: 0.019522\n",
            "Epoch: 144, Loss: 0.013779\n",
            "Epoch: 145, Loss: 0.018580\n",
            "Epoch: 146, Loss: 0.016640\n",
            "Epoch: 147, Loss: 0.013907\n",
            "Epoch: 148, Loss: 0.019507\n",
            "Epoch: 149, Loss: 0.030067\n",
            "Epoch: 150, Loss: 0.020173\n",
            "Epoch: 151, Loss: 0.012015\n",
            "Epoch: 152, Loss: 0.015517\n",
            "Epoch: 153, Loss: 0.017030\n",
            "Epoch: 154, Loss: 0.016009\n",
            "Epoch: 155, Loss: 0.017817\n",
            "Epoch: 156, Loss: 0.010564\n",
            "Epoch: 157, Loss: 0.020288\n",
            "Epoch: 158, Loss: 0.019895\n",
            "Epoch: 159, Loss: 0.015491\n",
            "Epoch: 160, Loss: 0.015782\n",
            "Epoch: 161, Loss: 0.022328\n",
            "Epoch: 162, Loss: 0.012928\n",
            "Epoch: 163, Loss: 0.014348\n",
            "Epoch: 164, Loss: 0.024233\n",
            "Epoch: 165, Loss: 0.011464\n",
            "Epoch: 166, Loss: 0.019763\n",
            "Epoch: 167, Loss: 0.029108\n",
            "Epoch: 168, Loss: 0.009279\n",
            "Epoch: 169, Loss: 0.015848\n",
            "Epoch: 170, Loss: 0.010523\n",
            "Epoch: 171, Loss: 0.017663\n",
            "Epoch: 172, Loss: 0.014158\n",
            "Epoch: 173, Loss: 0.016862\n",
            "Epoch: 174, Loss: 0.017121\n",
            "Epoch: 175, Loss: 0.011166\n",
            "Epoch: 176, Loss: 0.013975\n",
            "Epoch: 177, Loss: 0.012567\n",
            "Epoch: 178, Loss: 0.008450\n",
            "Epoch: 179, Loss: 0.014456\n",
            "Epoch: 180, Loss: 0.018876\n",
            "Epoch: 181, Loss: 0.012944\n",
            "Epoch: 182, Loss: 0.009836\n",
            "Epoch: 183, Loss: 0.014471\n",
            "Epoch: 184, Loss: 0.006394\n",
            "Epoch: 185, Loss: 0.010869\n",
            "Epoch: 186, Loss: 0.009937\n",
            "Epoch: 187, Loss: 0.013539\n",
            "Epoch: 188, Loss: 0.026687\n",
            "Epoch: 189, Loss: 0.014198\n",
            "Epoch: 190, Loss: 0.012012\n",
            "Epoch: 191, Loss: 0.010923\n",
            "Epoch: 192, Loss: 0.009097\n",
            "Epoch: 193, Loss: 0.011821\n",
            "Epoch: 194, Loss: 0.007003\n",
            "Epoch: 195, Loss: 0.010925\n",
            "Epoch: 196, Loss: 0.010282\n",
            "Epoch: 197, Loss: 0.010297\n",
            "Epoch: 198, Loss: 0.008426\n",
            "Epoch: 199, Loss: 0.014567\n",
            "Epoch: 200, Loss: 0.013207\n",
            "Epoch: 201, Loss: 0.017601\n",
            "Epoch: 202, Loss: 0.012741\n",
            "Epoch: 203, Loss: 0.011926\n",
            "Epoch: 204, Loss: 0.016299\n",
            "Epoch: 205, Loss: 0.010426\n",
            "Epoch: 206, Loss: 0.016571\n",
            "Epoch: 207, Loss: 0.008920\n",
            "Epoch: 208, Loss: 0.007685\n",
            "Epoch: 209, Loss: 0.005977\n",
            "Epoch: 210, Loss: 0.010010\n",
            "Epoch: 211, Loss: 0.008089\n",
            "Epoch: 212, Loss: 0.012013\n",
            "Epoch: 213, Loss: 0.010555\n",
            "Epoch: 214, Loss: 0.008507\n",
            "Epoch: 215, Loss: 0.008836\n",
            "Epoch: 216, Loss: 0.006777\n",
            "Epoch: 217, Loss: 0.014341\n",
            "Epoch: 218, Loss: 0.011216\n",
            "Epoch: 219, Loss: 0.009292\n",
            "Epoch: 220, Loss: 0.008982\n",
            "Epoch: 221, Loss: 0.011607\n",
            "Epoch: 222, Loss: 0.011837\n",
            "Epoch: 223, Loss: 0.007299\n",
            "Epoch: 224, Loss: 0.010943\n",
            "Epoch: 225, Loss: 0.013379\n",
            "Epoch: 226, Loss: 0.004973\n",
            "Epoch: 227, Loss: 0.008085\n",
            "Epoch: 228, Loss: 0.006431\n",
            "Epoch: 229, Loss: 0.009972\n",
            "Epoch: 230, Loss: 0.012776\n",
            "Epoch: 231, Loss: 0.008268\n",
            "Epoch: 232, Loss: 0.006596\n",
            "Epoch: 233, Loss: 0.005762\n",
            "Epoch: 234, Loss: 0.007481\n",
            "Epoch: 235, Loss: 0.009133\n",
            "Epoch: 236, Loss: 0.010009\n",
            "Epoch: 237, Loss: 0.014861\n",
            "Epoch: 238, Loss: 0.007512\n",
            "Epoch: 239, Loss: 0.008784\n",
            "Epoch: 240, Loss: 0.011917\n",
            "Epoch: 241, Loss: 0.006654\n",
            "Epoch: 242, Loss: 0.011007\n",
            "Epoch: 243, Loss: 0.010911\n",
            "Epoch: 244, Loss: 0.011197\n",
            "Epoch: 245, Loss: 0.007615\n",
            "Epoch: 246, Loss: 0.011164\n",
            "Epoch: 247, Loss: 0.003486\n",
            "Epoch: 248, Loss: 0.006707\n",
            "Epoch: 249, Loss: 0.012729\n",
            "Epoch: 250, Loss: 0.004999\n",
            "Epoch: 251, Loss: 0.009014\n",
            "Epoch: 252, Loss: 0.012889\n",
            "Epoch: 253, Loss: 0.008075\n",
            "Epoch: 254, Loss: 0.008172\n",
            "Epoch: 255, Loss: 0.004524\n",
            "Epoch: 256, Loss: 0.007135\n",
            "Epoch: 257, Loss: 0.005423\n",
            "Epoch: 258, Loss: 0.005298\n",
            "Epoch: 259, Loss: 0.006907\n",
            "Epoch: 260, Loss: 0.006999\n",
            "Epoch: 261, Loss: 0.009715\n",
            "Epoch: 262, Loss: 0.008665\n",
            "Epoch: 263, Loss: 0.005803\n",
            "Epoch: 264, Loss: 0.008397\n",
            "Epoch: 265, Loss: 0.008604\n",
            "Epoch: 266, Loss: 0.008699\n",
            "Epoch: 267, Loss: 0.005824\n",
            "Epoch: 268, Loss: 0.006451\n",
            "Epoch: 269, Loss: 0.006703\n",
            "Epoch: 270, Loss: 0.004981\n",
            "Epoch: 271, Loss: 0.005302\n",
            "Epoch: 272, Loss: 0.010370\n",
            "Epoch: 273, Loss: 0.005673\n",
            "Epoch: 274, Loss: 0.005776\n",
            "Epoch: 275, Loss: 0.005284\n",
            "Epoch: 276, Loss: 0.007962\n",
            "Epoch: 277, Loss: 0.007769\n",
            "Epoch: 278, Loss: 0.005850\n",
            "Epoch: 279, Loss: 0.010850\n",
            "Epoch: 280, Loss: 0.008229\n",
            "Epoch: 281, Loss: 0.007626\n",
            "Epoch: 282, Loss: 0.007674\n",
            "Epoch: 283, Loss: 0.010574\n",
            "Epoch: 284, Loss: 0.006215\n",
            "Epoch: 285, Loss: 0.005843\n",
            "Epoch: 286, Loss: 0.004979\n",
            "Epoch: 287, Loss: 0.004818\n",
            "Epoch: 288, Loss: 0.004357\n",
            "Epoch: 289, Loss: 0.006821\n",
            "Epoch: 290, Loss: 0.007462\n",
            "Epoch: 291, Loss: 0.014150\n",
            "Epoch: 292, Loss: 0.007245\n",
            "Epoch: 293, Loss: 0.007317\n",
            "Epoch: 294, Loss: 0.005186\n",
            "Epoch: 295, Loss: 0.005899\n",
            "Epoch: 296, Loss: 0.010306\n",
            "Epoch: 297, Loss: 0.007459\n",
            "Epoch: 298, Loss: 0.003850\n",
            "Epoch: 299, Loss: 0.005377\n"
          ]
        },
        {
          "output_type": "execute_result",
          "data": {
            "text/plain": [
              "[<matplotlib.lines.Line2D at 0x7f67ff804290>]"
            ]
          },
          "metadata": {},
          "execution_count": 40
        },
        {
          "output_type": "display_data",
          "data": {
            "image/png": "[encoded data removed]",
            "text/plain": [
              "<Figure size 600x400 with 1 Axes>"
            ]
          },
          "metadata": {
            "needs_background": "light"
          }
        }
      ],
      "source": [
        "t_predicted = []\n",
        "for epoch in range(n_epochs):\n",
        "    for imgs, labels in train_loader:\n",
        "      batch_size = imgs.shape[0]\n",
        "      outputs = model(imgs.view(batch_size, -1))\n",
        "      loss = loss_fn(outputs, labels)\n",
        "      optimizer_.zero_grad()\n",
        "      loss.backward()\n",
        "      optimizer_.step()\n",
        "    t_predicted.append(loss.item())\n",
        "    print(\"Epoch: %d, Loss: %f\" % (epoch, float(loss)))\n",
        "fig = plt.figure(dpi = 100)\n",
        "step = np.linspace(0,n_epochs,n_epochs)\n",
        "plt.xlabel(\"Epochs\")\n",
        "plt.ylabel(\"Loss\")\n",
        "plt.plot(step,np.array(t_predicted))"
      ]
    },
    {
      "cell_type": "code",
      "execution_count": 24,
      "metadata": {
        "colab": {
          "base_uri": "https://localhost:8080/"
        },
        "id": "bQ1zaVZ-aGe9",
        "outputId": "da420591-51b7-405a-a02f-ad97d7b6550a"
      },
      "outputs": [
        {
          "output_type": "stream",
          "name": "stdout",
          "text": [
            "Accuracy: %f 0.4681\n"
          ]
        }
      ],
      "source": [
        "val_loader = torch.utils.data.DataLoader(transformed_cifar10_val, batch_size=64,\n",
        "shuffle=False)\n",
        "\n",
        "correct = 0\n",
        "total = 0\n",
        "\n",
        "with torch.no_grad():\n",
        "  for imgs_v, labels in val_loader:\n",
        "    batch_size = imgs_v.shape[0]\n",
        "    outputs = model(imgs_v.view(batch_size, -1))\n",
        "    _, predicted = torch.max(outputs, dim=1)\n",
        "    total += labels.shape[0]\n",
        "    correct += int((predicted == labels).sum())\n",
        "print(\"Accuracy: %f\", correct / total)"
      ]
    },
    {
      "cell_type": "markdown",
      "metadata": {
        "id": "mKFp0Iaa54Mx"
      },
      "source": [
        "Problem 2 Part 2"
      ]
    },
    {
      "cell_type": "code",
      "execution_count": 25,
      "metadata": {
        "id": "MVK8NXePc07M"
      },
      "outputs": [],
      "source": [
        "train_loader = torch.utils.data.DataLoader(transformed_cifar10, batch_size = 64, \n",
        "                                           shuffle = True)\n",
        "n_out = 10 #All 10 classes\n",
        "\n",
        "model_v2 = nn.Sequential(\n",
        "    nn.Linear(3072, 512),\n",
        "    nn.Tanh(),\n",
        "    nn.Linear(512, 256),\n",
        "    nn.Tanh(),\n",
        "    nn.Linear(256, 128),\n",
        "    nn.Tanh(),\n",
        "    nn.Linear(128,n_out),\n",
        "    nn.LogSoftmax(dim=1)\n",
        ")"
      ]
    },
    {
      "cell_type": "code",
      "execution_count": 26,
      "metadata": {
        "id": "zotgAuVKIESM"
      },
      "outputs": [],
      "source": [
        "learning_rate = 1e-2\n",
        "optimizer_v2 = optim.SGD(model_v2.parameters(), lr = learning_rate)\n",
        "loss_fn = nn.NLLLoss()\n",
        "n_epochs = 300"
      ]
    },
    {
      "cell_type": "code",
      "execution_count": 27,
      "metadata": {
        "colab": {
          "base_uri": "https://localhost:8080/",
          "height": 1000
        },
        "id": "WFb5vkBXAZa0",
        "outputId": "db3180b2-bb6b-4e6f-bec7-488f9c327326"
      },
      "outputs": [
        {
          "output_type": "stream",
          "name": "stdout",
          "text": [
            "Epoch: 0, Loss: 1.657018\n",
            "Epoch: 1, Loss: 1.458959\n",
            "Epoch: 2, Loss: 1.979859\n",
            "Epoch: 3, Loss: 1.577101\n",
            "Epoch: 4, Loss: 1.441849\n",
            "Epoch: 5, Loss: 1.233595\n",
            "Epoch: 6, Loss: 1.686482\n",
            "Epoch: 7, Loss: 1.209739\n",
            "Epoch: 8, Loss: 1.628567\n",
            "Epoch: 9, Loss: 1.185835\n",
            "Epoch: 10, Loss: 1.143459\n",
            "Epoch: 11, Loss: 1.164252\n",
            "Epoch: 12, Loss: 0.723094\n",
            "Epoch: 13, Loss: 1.143742\n",
            "Epoch: 14, Loss: 0.883286\n",
            "Epoch: 15, Loss: 0.916958\n",
            "Epoch: 16, Loss: 0.815777\n",
            "Epoch: 17, Loss: 1.154745\n",
            "Epoch: 18, Loss: 0.921759\n",
            "Epoch: 19, Loss: 0.806028\n",
            "Epoch: 20, Loss: 1.699053\n",
            "Epoch: 21, Loss: 0.501434\n",
            "Epoch: 22, Loss: 0.902372\n",
            "Epoch: 23, Loss: 1.529405\n",
            "Epoch: 24, Loss: 0.686166\n",
            "Epoch: 25, Loss: 0.473489\n",
            "Epoch: 26, Loss: 0.481589\n",
            "Epoch: 27, Loss: 0.196315\n",
            "Epoch: 28, Loss: 0.710210\n",
            "Epoch: 29, Loss: 0.376876\n",
            "Epoch: 30, Loss: 0.899716\n",
            "Epoch: 31, Loss: 0.832313\n",
            "Epoch: 32, Loss: 0.544064\n",
            "Epoch: 33, Loss: 0.413908\n",
            "Epoch: 34, Loss: 0.424580\n",
            "Epoch: 35, Loss: 0.346181\n",
            "Epoch: 36, Loss: 0.265819\n",
            "Epoch: 37, Loss: 0.208573\n",
            "Epoch: 38, Loss: 0.085954\n",
            "Epoch: 39, Loss: 0.304199\n",
            "Epoch: 40, Loss: 0.645105\n",
            "Epoch: 41, Loss: 0.129673\n",
            "Epoch: 42, Loss: 0.180083\n",
            "Epoch: 43, Loss: 0.145848\n",
            "Epoch: 44, Loss: 0.119697\n",
            "Epoch: 45, Loss: 0.246174\n",
            "Epoch: 46, Loss: 0.256784\n",
            "Epoch: 47, Loss: 0.293791\n",
            "Epoch: 48, Loss: 0.045662\n",
            "Epoch: 49, Loss: 0.269685\n",
            "Epoch: 50, Loss: 0.029740\n",
            "Epoch: 51, Loss: 0.170757\n",
            "Epoch: 52, Loss: 0.014841\n",
            "Epoch: 53, Loss: 0.089064\n",
            "Epoch: 54, Loss: 0.050297\n",
            "Epoch: 55, Loss: 0.011318\n",
            "Epoch: 56, Loss: 0.011672\n",
            "Epoch: 57, Loss: 0.012442\n",
            "Epoch: 58, Loss: 0.013337\n",
            "Epoch: 59, Loss: 0.025747\n",
            "Epoch: 60, Loss: 0.016105\n",
            "Epoch: 61, Loss: 0.009485\n",
            "Epoch: 62, Loss: 0.029749\n",
            "Epoch: 63, Loss: 0.006809\n",
            "Epoch: 64, Loss: 0.020307\n",
            "Epoch: 65, Loss: 0.054454\n",
            "Epoch: 66, Loss: 0.218656\n",
            "Epoch: 67, Loss: 0.060524\n",
            "Epoch: 68, Loss: 0.045712\n",
            "Epoch: 69, Loss: 0.018060\n",
            "Epoch: 70, Loss: 0.011119\n",
            "Epoch: 71, Loss: 0.004545\n",
            "Epoch: 72, Loss: 0.009468\n",
            "Epoch: 73, Loss: 0.006371\n",
            "Epoch: 74, Loss: 0.005293\n",
            "Epoch: 75, Loss: 0.003969\n",
            "Epoch: 76, Loss: 0.001619\n",
            "Epoch: 77, Loss: 0.005256\n",
            "Epoch: 78, Loss: 0.001737\n",
            "Epoch: 79, Loss: 0.005875\n",
            "Epoch: 80, Loss: 0.003245\n",
            "Epoch: 81, Loss: 0.001263\n",
            "Epoch: 82, Loss: 0.003327\n",
            "Epoch: 83, Loss: 0.002036\n",
            "Epoch: 84, Loss: 0.002492\n",
            "Epoch: 85, Loss: 0.002825\n",
            "Epoch: 86, Loss: 0.002792\n",
            "Epoch: 87, Loss: 0.003100\n",
            "Epoch: 88, Loss: 0.002062\n",
            "Epoch: 89, Loss: 0.002101\n",
            "Epoch: 90, Loss: 0.004754\n",
            "Epoch: 91, Loss: 0.002243\n",
            "Epoch: 92, Loss: 0.001686\n",
            "Epoch: 93, Loss: 0.004850\n",
            "Epoch: 94, Loss: 0.003196\n",
            "Epoch: 95, Loss: 0.001637\n",
            "Epoch: 96, Loss: 0.004376\n",
            "Epoch: 97, Loss: 0.002638\n",
            "Epoch: 98, Loss: 0.002133\n",
            "Epoch: 99, Loss: 0.002442\n",
            "Epoch: 100, Loss: 0.000799\n",
            "Epoch: 101, Loss: 0.002356\n",
            "Epoch: 102, Loss: 0.002543\n",
            "Epoch: 103, Loss: 0.002832\n",
            "Epoch: 104, Loss: 0.002268\n",
            "Epoch: 105, Loss: 0.001824\n",
            "Epoch: 106, Loss: 0.001780\n",
            "Epoch: 107, Loss: 0.001411\n",
            "Epoch: 108, Loss: 0.000779\n",
            "Epoch: 109, Loss: 0.000831\n",
            "Epoch: 110, Loss: 0.000957\n",
            "Epoch: 111, Loss: 0.001650\n",
            "Epoch: 112, Loss: 0.000762\n",
            "Epoch: 113, Loss: 0.003032\n",
            "Epoch: 114, Loss: 0.001514\n",
            "Epoch: 115, Loss: 0.000725\n",
            "Epoch: 116, Loss: 0.001663\n",
            "Epoch: 117, Loss: 0.002567\n",
            "Epoch: 118, Loss: 0.000852\n",
            "Epoch: 119, Loss: 0.001693\n",
            "Epoch: 120, Loss: 0.000958\n",
            "Epoch: 121, Loss: 0.000875\n",
            "Epoch: 122, Loss: 0.000966\n",
            "Epoch: 123, Loss: 0.001776\n",
            "Epoch: 124, Loss: 0.000944\n",
            "Epoch: 125, Loss: 0.001128\n",
            "Epoch: 126, Loss: 0.001689\n",
            "Epoch: 127, Loss: 0.001175\n",
            "Epoch: 128, Loss: 0.001581\n",
            "Epoch: 129, Loss: 0.001113\n",
            "Epoch: 130, Loss: 0.000875\n",
            "Epoch: 131, Loss: 0.001395\n",
            "Epoch: 132, Loss: 0.001246\n",
            "Epoch: 133, Loss: 0.001064\n",
            "Epoch: 134, Loss: 0.001189\n",
            "Epoch: 135, Loss: 0.000680\n",
            "Epoch: 136, Loss: 0.000490\n",
            "Epoch: 137, Loss: 0.000723\n",
            "Epoch: 138, Loss: 0.001181\n",
            "Epoch: 139, Loss: 0.000517\n",
            "Epoch: 140, Loss: 0.001893\n",
            "Epoch: 141, Loss: 0.001407\n",
            "Epoch: 142, Loss: 0.000684\n",
            "Epoch: 143, Loss: 0.001062\n",
            "Epoch: 144, Loss: 0.000812\n",
            "Epoch: 145, Loss: 0.000701\n",
            "Epoch: 146, Loss: 0.000877\n",
            "Epoch: 147, Loss: 0.000975\n",
            "Epoch: 148, Loss: 0.000637\n",
            "Epoch: 149, Loss: 0.000761\n",
            "Epoch: 150, Loss: 0.001815\n",
            "Epoch: 151, Loss: 0.001056\n",
            "Epoch: 152, Loss: 0.000628\n",
            "Epoch: 153, Loss: 0.000621\n",
            "Epoch: 154, Loss: 0.000983\n",
            "Epoch: 155, Loss: 0.001045\n",
            "Epoch: 156, Loss: 0.000677\n",
            "Epoch: 157, Loss: 0.000790\n",
            "Epoch: 158, Loss: 0.001138\n",
            "Epoch: 159, Loss: 0.001063\n",
            "Epoch: 160, Loss: 0.000761\n",
            "Epoch: 161, Loss: 0.000516\n",
            "Epoch: 162, Loss: 0.000567\n",
            "Epoch: 163, Loss: 0.000528\n",
            "Epoch: 164, Loss: 0.000570\n",
            "Epoch: 165, Loss: 0.001163\n",
            "Epoch: 166, Loss: 0.001127\n",
            "Epoch: 167, Loss: 0.000416\n",
            "Epoch: 168, Loss: 0.000850\n",
            "Epoch: 169, Loss: 0.000641\n",
            "Epoch: 170, Loss: 0.001588\n",
            "Epoch: 171, Loss: 0.000459\n",
            "Epoch: 172, Loss: 0.000619\n",
            "Epoch: 173, Loss: 0.000397\n",
            "Epoch: 174, Loss: 0.000630\n",
            "Epoch: 175, Loss: 0.000710\n",
            "Epoch: 176, Loss: 0.000812\n",
            "Epoch: 177, Loss: 0.000789\n",
            "Epoch: 178, Loss: 0.001258\n",
            "Epoch: 179, Loss: 0.000663\n",
            "Epoch: 180, Loss: 0.000567\n",
            "Epoch: 181, Loss: 0.000506\n",
            "Epoch: 182, Loss: 0.000718\n",
            "Epoch: 183, Loss: 0.000959\n",
            "Epoch: 184, Loss: 0.000476\n",
            "Epoch: 185, Loss: 0.000470\n",
            "Epoch: 186, Loss: 0.001214\n",
            "Epoch: 187, Loss: 0.000650\n",
            "Epoch: 188, Loss: 0.000490\n",
            "Epoch: 189, Loss: 0.000601\n",
            "Epoch: 190, Loss: 0.000827\n",
            "Epoch: 191, Loss: 0.000670\n",
            "Epoch: 192, Loss: 0.000590\n",
            "Epoch: 193, Loss: 0.000989\n",
            "Epoch: 194, Loss: 0.000894\n",
            "Epoch: 195, Loss: 0.000574\n",
            "Epoch: 196, Loss: 0.000758\n",
            "Epoch: 197, Loss: 0.000585\n",
            "Epoch: 198, Loss: 0.000611\n",
            "Epoch: 199, Loss: 0.000797\n",
            "Epoch: 200, Loss: 0.000374\n",
            "Epoch: 201, Loss: 0.000396\n",
            "Epoch: 202, Loss: 0.000423\n",
            "Epoch: 203, Loss: 0.000520\n",
            "Epoch: 204, Loss: 0.000646\n",
            "Epoch: 205, Loss: 0.000797\n",
            "Epoch: 206, Loss: 0.000417\n",
            "Epoch: 207, Loss: 0.000671\n",
            "Epoch: 208, Loss: 0.000441\n",
            "Epoch: 209, Loss: 0.000401\n",
            "Epoch: 210, Loss: 0.000250\n",
            "Epoch: 211, Loss: 0.000640\n",
            "Epoch: 212, Loss: 0.000328\n",
            "Epoch: 213, Loss: 0.000998\n",
            "Epoch: 214, Loss: 0.000635\n",
            "Epoch: 215, Loss: 0.000591\n",
            "Epoch: 216, Loss: 0.000540\n",
            "Epoch: 217, Loss: 0.000741\n",
            "Epoch: 218, Loss: 0.000539\n",
            "Epoch: 219, Loss: 0.000601\n",
            "Epoch: 220, Loss: 0.000532\n",
            "Epoch: 221, Loss: 0.000963\n",
            "Epoch: 222, Loss: 0.000162\n",
            "Epoch: 223, Loss: 0.000582\n",
            "Epoch: 224, Loss: 0.000428\n",
            "Epoch: 225, Loss: 0.000727\n",
            "Epoch: 226, Loss: 0.000243\n",
            "Epoch: 227, Loss: 0.000539\n",
            "Epoch: 228, Loss: 0.000414\n",
            "Epoch: 229, Loss: 0.000557\n",
            "Epoch: 230, Loss: 0.000598\n",
            "Epoch: 231, Loss: 0.000478\n",
            "Epoch: 232, Loss: 0.000379\n",
            "Epoch: 233, Loss: 0.000259\n",
            "Epoch: 234, Loss: 0.000494\n",
            "Epoch: 235, Loss: 0.000521\n",
            "Epoch: 236, Loss: 0.000503\n",
            "Epoch: 237, Loss: 0.000300\n",
            "Epoch: 238, Loss: 0.000329\n",
            "Epoch: 239, Loss: 0.000564\n",
            "Epoch: 240, Loss: 0.000401\n",
            "Epoch: 241, Loss: 0.000332\n",
            "Epoch: 242, Loss: 0.000494\n",
            "Epoch: 243, Loss: 0.000464\n",
            "Epoch: 244, Loss: 0.000218\n",
            "Epoch: 245, Loss: 0.000549\n",
            "Epoch: 246, Loss: 0.000262\n",
            "Epoch: 247, Loss: 0.000347\n",
            "Epoch: 248, Loss: 0.000204\n",
            "Epoch: 249, Loss: 0.000248\n",
            "Epoch: 250, Loss: 0.000595\n",
            "Epoch: 251, Loss: 0.000326\n",
            "Epoch: 252, Loss: 0.000332\n",
            "Epoch: 253, Loss: 0.000420\n",
            "Epoch: 254, Loss: 0.000479\n",
            "Epoch: 255, Loss: 0.000163\n",
            "Epoch: 256, Loss: 0.000251\n",
            "Epoch: 257, Loss: 0.000381\n",
            "Epoch: 258, Loss: 0.000290\n",
            "Epoch: 259, Loss: 0.000339\n",
            "Epoch: 260, Loss: 0.000393\n",
            "Epoch: 261, Loss: 0.000470\n",
            "Epoch: 262, Loss: 0.000568\n",
            "Epoch: 263, Loss: 0.000235\n",
            "Epoch: 264, Loss: 0.000259\n",
            "Epoch: 265, Loss: 0.000308\n",
            "Epoch: 266, Loss: 0.000308\n",
            "Epoch: 267, Loss: 0.000396\n",
            "Epoch: 268, Loss: 0.000350\n",
            "Epoch: 269, Loss: 0.000270\n",
            "Epoch: 270, Loss: 0.000201\n",
            "Epoch: 271, Loss: 0.000397\n",
            "Epoch: 272, Loss: 0.000307\n",
            "Epoch: 273, Loss: 0.000468\n",
            "Epoch: 274, Loss: 0.000327\n",
            "Epoch: 275, Loss: 0.000638\n",
            "Epoch: 276, Loss: 0.000385\n",
            "Epoch: 277, Loss: 0.000306\n",
            "Epoch: 278, Loss: 0.000091\n",
            "Epoch: 279, Loss: 0.000487\n",
            "Epoch: 280, Loss: 0.000446\n",
            "Epoch: 281, Loss: 0.000296\n",
            "Epoch: 282, Loss: 0.000676\n",
            "Epoch: 283, Loss: 0.000366\n",
            "Epoch: 284, Loss: 0.000435\n",
            "Epoch: 285, Loss: 0.000267\n",
            "Epoch: 286, Loss: 0.000332\n",
            "Epoch: 287, Loss: 0.000407\n",
            "Epoch: 288, Loss: 0.000531\n",
            "Epoch: 289, Loss: 0.000436\n",
            "Epoch: 290, Loss: 0.000198\n",
            "Epoch: 291, Loss: 0.000306\n",
            "Epoch: 292, Loss: 0.000250\n",
            "Epoch: 293, Loss: 0.000430\n",
            "Epoch: 294, Loss: 0.000338\n",
            "Epoch: 295, Loss: 0.000372\n",
            "Epoch: 296, Loss: 0.000478\n",
            "Epoch: 297, Loss: 0.000309\n",
            "Epoch: 298, Loss: 0.000504\n",
            "Epoch: 299, Loss: 0.000445\n"
          ]
        },
        {
          "output_type": "execute_result",
          "data": {
            "text/plain": [
              "[<matplotlib.lines.Line2D at 0x7f68002b27d0>]"
            ]
          },
          "metadata": {},
          "execution_count": 27
        },
        {
          "output_type": "display_data",
          "data": {
            "image/png": "[encoded data removed]",
            "text/plain": [
              "<Figure size 600x400 with 1 Axes>"
            ]
          },
          "metadata": {
            "needs_background": "light"
          }
        }
      ],
      "source": [
        "t_predicted = []\n",
        "\n",
        "for epoch in range(n_epochs):\n",
        "    for imgs, labels in train_loader:\n",
        "      batch_size = imgs.shape[0]\n",
        "      outputs = model_v2(imgs.view(batch_size, -1))\n",
        "      loss = loss_fn(outputs, labels)\n",
        "      optimizer_v2.zero_grad()\n",
        "      loss.backward()\n",
        "      optimizer_v2.step()\n",
        "    t_predicted.append(loss.item())\n",
        "    print(\"Epoch: %d, Loss: %f\" % (epoch, float(loss)))\n",
        "fig = plt.figure(dpi = 100)\n",
        "step = np.linspace(0,n_epochs,n_epochs)\n",
        "plt.xlabel(\"Epochs\")\n",
        "plt.ylabel(\"Loss\")\n",
        "plt.plot(step,np.array(t_predicted))"
      ]
    },
    {
      "cell_type": "code",
      "execution_count": 28,
      "metadata": {
        "colab": {
          "base_uri": "https://localhost:8080/"
        },
        "id": "XtoS_22JSLKe",
        "outputId": "fbec5f05-9e5d-46c9-d02e-844892cff98a"
      },
      "outputs": [
        {
          "output_type": "stream",
          "name": "stdout",
          "text": [
            "Accuracy: %f 0.456\n"
          ]
        }
      ],
      "source": [
        "val_loader = torch.utils.data.DataLoader(transformed_cifar10_val, batch_size=64,\n",
        "shuffle=False)\n",
        "\n",
        "correct = 0\n",
        "total = 0\n",
        "\n",
        "with torch.no_grad():\n",
        "  for imgs_v, labels in val_loader:\n",
        "    batch_size = imgs_v.shape[0]\n",
        "    outputs = model_v2(imgs_v.view(batch_size, -1))\n",
        "    _, predicted = torch.max(outputs, dim=1)\n",
        "    total += labels.shape[0]\n",
        "    correct += int((predicted == labels).sum())\n",
        "print(\"Accuracy: %f\", correct / total)"
      ]
    }
  ],
  "metadata": {
    "colab": {
      "collapsed_sections": [],
      "name": "hw3.ipynb",
      "provenance": [],
      "mount_file_id": "1GBpjBjb6Ind6HahzIDSHevmW45c3Q4N6",
      "authorship_tag": "ABX9TyNL0Lh9RlG5NXYHVWdedG4S",
      "include_colab_link": true
    },
    "kernelspec": {
      "display_name": "Python 3",
      "name": "python3"
    },
    "language_info": {
      "name": "python"
    }
  },
  "nbformat": 4,
  "nbformat_minor": 0
}