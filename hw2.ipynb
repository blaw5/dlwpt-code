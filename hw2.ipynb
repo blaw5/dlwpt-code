{
  "nbformat": 4,
  "nbformat_minor": 0,
  "metadata": {
    "colab": {
      "name": "hw2",
      "provenance": [],
      "collapsed_sections": [],
      "mount_file_id": "1z3BXJbjuobb_kKL7Y2oDftu4eQJJRaEl",
      "authorship_tag": "ABX9TyOI/WqHkxw/R1g2FH8cdXiJ",
      "include_colab_link": true
    },
    "kernelspec": {
      "name": "python3",
      "display_name": "Python 3"
    },
    "language_info": {
      "name": "python"
    }
  },
  "cells": [
    {
      "cell_type": "markdown",
      "metadata": {
        "id": "view-in-github",
        "colab_type": "text"
      },
      "source": [
        "<a href=\"https://colab.research.google.com/github/blaw5/dlwpt-code/blob/master/hw2.ipynb\" target=\"_parent\"><img src=\"https://colab.research.google.com/assets/colab-badge.svg\" alt=\"Open In Colab\"/></a>"
      ]
    },
    {
      "cell_type": "markdown",
      "source": [
        "Question 1 - RGB Color Recognition"
      ],
      "metadata": {
        "id": "UaY6Anvdej4i"
      }
    },
    {
      "cell_type": "code",
      "execution_count": 185,
      "metadata": {
        "id": "8TNNkHkWc6NK"
      },
      "outputs": [],
      "source": [
        "import torch \n",
        "import cv2\n",
        "from torchvision import models\n",
        "import matplotlib.pyplot as plt\n",
        "import numpy as np "
      ]
    },
    {
      "cell_type": "code",
      "source": [
        "from PIL import Image\n",
        "img1 = Image.open(\"../content/drive/MyDrive/ColabNotebooks/data/red1.png\")\n",
        "img2 = Image.open(\"../content/drive/MyDrive/ColabNotebooks/data/red2.png\")\n",
        "img3 = Image.open(\"../content/drive/MyDrive/ColabNotebooks/data/red3.png\")\n",
        "img4 = Image.open(\"../content/drive/MyDrive/ColabNotebooks/data/green1.png\")\n",
        "img5 = Image.open(\"../content/drive/MyDrive/ColabNotebooks/data/green2.png\")\n",
        "img6 = Image.open(\"../content/drive/MyDrive/ColabNotebooks/data/green3.png\")\n",
        "img7 = Image.open(\"../content/drive/MyDrive/ColabNotebooks/data/blue1.png\")\n",
        "img8 = Image.open(\"../content/drive/MyDrive/ColabNotebooks/data/blue2.png\")\n",
        "img9 = Image.open(\"../content/drive/MyDrive/ColabNotebooks/data/blue3.png\")"
      ],
      "metadata": {
        "id": "MZTn2LX4dCzj"
      },
      "execution_count": 186,
      "outputs": []
    },
    {
      "cell_type": "code",
      "source": [
        "from torchvision import transforms\n",
        "preprocess = transforms.Compose([\n",
        "        transforms.Resize(256),\n",
        "        transforms.CenterCrop(224),\n",
        "        transforms.ToTensor(),\n",
        "        transforms.Normalize(\n",
        "            mean=[0.485, 0.456, 0.406],\n",
        "            std=[0.229, 0.224, 0.225]\n",
        "        )])"
      ],
      "metadata": {
        "id": "mlMcGelgeCdZ"
      },
      "execution_count": 187,
      "outputs": []
    },
    {
      "cell_type": "code",
      "source": [
        "img_t1 = preprocess(img1) #shape of ([3, 224, 224])\n",
        "img_t2 = preprocess(img2)\n",
        "img_t3 = preprocess(img3)\n",
        "img_t4 = preprocess(img4)\n",
        "img_t5 = preprocess(img5)\n",
        "img_t6 = preprocess(img6)\n",
        "img_t7 = preprocess(img7)\n",
        "img_t8 = preprocess(img8)\n",
        "img_t9 = preprocess(img9)\n"
      ],
      "metadata": {
        "id": "L_VkDdoLeEwB"
      },
      "execution_count": 188,
      "outputs": []
    },
    {
      "cell_type": "code",
      "source": [
        "#Mean overall (brightness estimate)\n",
        "print(torch.mean(img_t1))\n",
        "print(torch.mean(img_t2))\n",
        "print(torch.mean(img_t3))\n",
        "print(torch.mean(img_t4))\n",
        "print(torch.mean(img_t5))\n",
        "print(torch.mean(img_t6))\n",
        "print(torch.mean(img_t7))\n",
        "print(torch.mean(img_t8))\n",
        "print(torch.mean(img_t9))"
      ],
      "metadata": {
        "id": "q0UrUbRJeilI",
        "colab": {
          "base_uri": "https://localhost:8080/"
        },
        "outputId": "add06fb5-7d47-4dd8-d596-49a28e762ad8"
      },
      "execution_count": 189,
      "outputs": [
        {
          "output_type": "stream",
          "name": "stdout",
          "text": [
            "tensor(-0.0472)\n",
            "tensor(-0.2833)\n",
            "tensor(-0.0377)\n",
            "tensor(-0.2380)\n",
            "tensor(0.2939)\n",
            "tensor(0.2476)\n",
            "tensor(0.2339)\n",
            "tensor(0.7462)\n",
            "tensor(-0.8430)\n"
          ]
        }
      ]
    },
    {
      "cell_type": "code",
      "source": [
        "#Red Images\n",
        "print(img_t1[0,:,:].mean()) #R channel Image 1\n",
        "print(img_t1[1,:,:].mean()) #G channel\n",
        "print(img_t1[2,:,:].mean()) #B channel\n",
        "print(img_t2[0,:,:].mean()) #R channel Image 2\n",
        "print(img_t2[1,:,:].mean()) #G channel\n",
        "print(img_t2[2,:,:].mean()) #B channel\n",
        "print(img_t3[0,:,:].mean()) #R channel Image 3\n",
        "print(img_t3[1,:,:].mean()) #G channel\n",
        "print(img_t3[2,:,:].mean()) #B channel"
      ],
      "metadata": {
        "id": "eGDiGUyxgxwP",
        "colab": {
          "base_uri": "https://localhost:8080/"
        },
        "outputId": "72aaf673-d544-4f50-fc4d-15aa0c4dd006"
      },
      "execution_count": 190,
      "outputs": [
        {
          "output_type": "stream",
          "name": "stdout",
          "text": [
            "tensor(0.1693)\n",
            "tensor(-0.2792)\n",
            "tensor(-0.0316)\n",
            "tensor(0.2397)\n",
            "tensor(-0.6370)\n",
            "tensor(-0.4528)\n",
            "tensor(0.8905)\n",
            "tensor(-0.5273)\n",
            "tensor(-0.4763)\n"
          ]
        }
      ]
    },
    {
      "cell_type": "code",
      "source": [
        "#Green Images\n",
        "print(img_t4[0,:,:].mean()) #R channel Image 4\n",
        "print(img_t4[1,:,:].mean()) #G channel\n",
        "print(img_t4[2,:,:].mean()) #B channel\n",
        "print(img_t5[0,:,:].mean()) #R channel Image 5\n",
        "print(img_t5[1,:,:].mean()) #G channel\n",
        "print(img_t5[2,:,:].mean()) #B channel\n",
        "print(img_t6[0,:,:].mean()) #R channel Image 6\n",
        "print(img_t6[1,:,:].mean()) #G channel\n",
        "print(img_t6[2,:,:].mean()) #B channel"
      ],
      "metadata": {
        "id": "InapwWuylyuj",
        "colab": {
          "base_uri": "https://localhost:8080/"
        },
        "outputId": "834400ee-ed02-448b-a5ee-1425d11bf290"
      },
      "execution_count": 191,
      "outputs": [
        {
          "output_type": "stream",
          "name": "stdout",
          "text": [
            "tensor(-1.2160)\n",
            "tensor(0.3013)\n",
            "tensor(0.2006)\n",
            "tensor(-0.4908)\n",
            "tensor(1.1099)\n",
            "tensor(0.2625)\n",
            "tensor(-0.8345)\n",
            "tensor(0.7634)\n",
            "tensor(0.8139)\n"
          ]
        }
      ]
    },
    {
      "cell_type": "code",
      "source": [
        "#Blue Images\n",
        "print(img_t7[0,:,:].mean()) #R channel Image 7\n",
        "print(img_t7[1,:,:].mean()) #G channel\n",
        "print(img_t7[2,:,:].mean()) #B channel\n",
        "print(img_t8[0,:,:].mean()) #R channel Image 8\n",
        "print(img_t8[1,:,:].mean()) #G channel\n",
        "print(img_t8[2,:,:].mean()) #B channel\n",
        "print(img_t9[0,:,:].mean()) #R channel Image 9\n",
        "print(img_t9[1,:,:].mean()) #G channel\n",
        "print(img_t9[2,:,:].mean()) #B channel"
      ],
      "metadata": {
        "id": "PJf6tzIMmWqe",
        "colab": {
          "base_uri": "https://localhost:8080/"
        },
        "outputId": "5626c02d-56ae-4c8e-aeac-9c159898551d"
      },
      "execution_count": 192,
      "outputs": [
        {
          "output_type": "stream",
          "name": "stdout",
          "text": [
            "tensor(0.1705)\n",
            "tensor(0.1987)\n",
            "tensor(0.3325)\n",
            "tensor(0.5827)\n",
            "tensor(0.7237)\n",
            "tensor(0.9322)\n",
            "tensor(-1.2483)\n",
            "tensor(-1.0006)\n",
            "tensor(-0.2801)\n"
          ]
        }
      ]
    },
    {
      "cell_type": "markdown",
      "source": [
        "Question 2 - Temperature Predicting"
      ],
      "metadata": {
        "id": "X8jeLndMmjTl"
      }
    },
    {
      "cell_type": "code",
      "source": [
        "t_c = [0.5, 14.0, 15.0, 28.0, 11.0, 8.0, 3.0, -4.0, 6.0, 13.0, 21.0]\n",
        "t_u = [35.7, 55.9, 58.2, 81.9, 56.3, 48.9, 33.9, 21.8, 48.4, 60.4, 68.4]\n",
        "t_c = torch.tensor(t_c)\n",
        "t_u = torch.tensor(t_u)"
      ],
      "metadata": {
        "id": "pQdaHexRt1nr"
      },
      "execution_count": 194,
      "outputs": []
    },
    {
      "cell_type": "code",
      "source": [
        "def loss_fn(t_p, t_c):\n",
        "  squared_diffs = (t_p - t_c) ** 2\n",
        "  return squared_diffs.mean()"
      ],
      "metadata": {
        "id": "DjgEJ31gxu4E"
      },
      "execution_count": 195,
      "outputs": []
    },
    {
      "cell_type": "code",
      "source": [
        "def dloss_fn(t_p, t_c):\n",
        "  dsq_diffs = 2 * (t_p - t_c) / t_p.size(0)\n",
        "  return dsq_diffs"
      ],
      "metadata": {
        "id": "naWZg6-cykJr"
      },
      "execution_count": 196,
      "outputs": []
    },
    {
      "cell_type": "code",
      "source": [
        "def model(t_u, w2, w1, b):\n",
        "  return w2 * t_u ** 2 + w1 * t_u + b"
      ],
      "metadata": {
        "id": "_A56Uni5y1fs"
      },
      "execution_count": 197,
      "outputs": []
    },
    {
      "cell_type": "code",
      "source": [
        "def model_dw1(t_u, w2, w1, b):\n",
        "  return w1 #partial derivative in respect to W"
      ],
      "metadata": {
        "id": "n8DuJvGJzCis"
      },
      "execution_count": 198,
      "outputs": []
    },
    {
      "cell_type": "code",
      "source": [
        "def model_dw2(t_u, w2, w1, b):\n",
        "  return 2 * w2 * t_u #partial derivative in respect to W"
      ],
      "metadata": {
        "id": "mZQMDwqC7Wr_"
      },
      "execution_count": 199,
      "outputs": []
    },
    {
      "cell_type": "code",
      "source": [
        "def model_db(t_u, w2, w1, b):\n",
        "  return 1.0 #partial derivative in respect to b"
      ],
      "metadata": {
        "id": "zyX4OeEtzC57"
      },
      "execution_count": 200,
      "outputs": []
    },
    {
      "cell_type": "code",
      "source": [
        "def grad_fn(t_u, t_c, t_p, w2, w1, b):\n",
        "  dloss_dtp = dloss_fn(t_p, t_c)\n",
        "  dloss_dw2 = dloss_dtp * model_dw2(t_u, w2, w1, b)\n",
        "  dloss_dw1 = dloss_dtp * model_dw1(t_u, w2, w1, b)\n",
        "  dloss_db = dloss_dtp * model_db(t_u, w2, w1, b)\n",
        "  return torch.stack([dloss_dw2.sum(), dloss_dw1.sum(), dloss_db.sum()])"
      ],
      "metadata": {
        "id": "X9r5SrOUxuml"
      },
      "execution_count": 201,
      "outputs": []
    },
    {
      "cell_type": "code",
      "source": [
        "def training_loop(n_epochs, learning_rate, params, t_u, t_c):\n",
        "  for epoch in range(1, n_epochs + 1):\n",
        "    w2, w1, b = params\n",
        "\n",
        "    t_p = model(t_u, w2, w1, b)\n",
        "    loss = loss_fn(t_p, t_c)\n",
        "    grad = grad_fn(t_u, t_c, t_p, w2, w1, b)\n",
        "\n",
        "    params = params - learning_rate * grad\n",
        "    if epoch % 500 == 0:\n",
        "      print('Epoch %d, Loss %f' % (epoch, float(loss)))\n",
        "  return params"
      ],
      "metadata": {
        "id": "hxQegPYSvodJ"
      },
      "execution_count": 202,
      "outputs": []
    },
    {
      "cell_type": "code",
      "source": [
        "t_un = 0.1 * t_u"
      ],
      "metadata": {
        "id": "F6Xjp_au1LHv"
      },
      "execution_count": 203,
      "outputs": []
    },
    {
      "cell_type": "code",
      "source": [
        "params = training_loop(\n",
        "n_epochs = 5000,\n",
        "learning_rate = 0.1,\n",
        "params = torch.tensor([1.0, 1.0, 0.0]),\n",
        "t_u = t_un,\n",
        "t_c = t_c)\n",
        "params"
      ],
      "metadata": {
        "id": "5K2yyXl90yy9",
        "colab": {
          "base_uri": "https://localhost:8080/"
        },
        "outputId": "377fe4f4-7306-4cda-b542-99941736c82c"
      },
      "execution_count": 204,
      "outputs": [
        {
          "output_type": "stream",
          "name": "stdout",
          "text": [
            "Epoch 500, Loss nan\n",
            "Epoch 1000, Loss nan\n",
            "Epoch 1500, Loss nan\n",
            "Epoch 2000, Loss nan\n",
            "Epoch 2500, Loss nan\n",
            "Epoch 3000, Loss nan\n",
            "Epoch 3500, Loss nan\n",
            "Epoch 4000, Loss nan\n",
            "Epoch 4500, Loss nan\n",
            "Epoch 5000, Loss nan\n"
          ]
        },
        {
          "output_type": "execute_result",
          "data": {
            "text/plain": [
              "tensor([nan, nan, nan])"
            ]
          },
          "metadata": {},
          "execution_count": 204
        }
      ]
    },
    {
      "cell_type": "code",
      "source": [
        "params = training_loop(\n",
        "n_epochs = 5000,\n",
        "learning_rate = 0.01,\n",
        "params = torch.tensor([1.0, 1.0, 0.0]),\n",
        "t_u = t_un,\n",
        "t_c = t_c)\n",
        "params"
      ],
      "metadata": {
        "id": "podzYS6Q1e0z",
        "colab": {
          "base_uri": "https://localhost:8080/"
        },
        "outputId": "dcc41572-cb9d-4290-d85c-7c51ad36fc86"
      },
      "execution_count": 205,
      "outputs": [
        {
          "output_type": "stream",
          "name": "stdout",
          "text": [
            "Epoch 500, Loss nan\n",
            "Epoch 1000, Loss nan\n",
            "Epoch 1500, Loss nan\n",
            "Epoch 2000, Loss nan\n",
            "Epoch 2500, Loss nan\n",
            "Epoch 3000, Loss nan\n",
            "Epoch 3500, Loss nan\n",
            "Epoch 4000, Loss nan\n",
            "Epoch 4500, Loss nan\n",
            "Epoch 5000, Loss nan\n"
          ]
        },
        {
          "output_type": "execute_result",
          "data": {
            "text/plain": [
              "tensor([nan, nan, nan])"
            ]
          },
          "metadata": {},
          "execution_count": 205
        }
      ]
    },
    {
      "cell_type": "code",
      "source": [
        "params = training_loop(\n",
        "n_epochs = 5000,\n",
        "learning_rate = 0.001,\n",
        "params = torch.tensor([1.0, 1.0, 0.0]),\n",
        "t_u = t_un,\n",
        "t_c = t_c)\n",
        "params"
      ],
      "metadata": {
        "id": "hNMSC_sj1fYj",
        "colab": {
          "base_uri": "https://localhost:8080/"
        },
        "outputId": "04a73aeb-c2a8-4194-f4a2-9ba015390b76"
      },
      "execution_count": 206,
      "outputs": [
        {
          "output_type": "stream",
          "name": "stdout",
          "text": [
            "Epoch 500, Loss 8.207376\n",
            "Epoch 1000, Loss 5.957879\n",
            "Epoch 1500, Loss 4.793697\n",
            "Epoch 2000, Loss 4.094471\n",
            "Epoch 2500, Loss 3.641978\n",
            "Epoch 3000, Loss 3.337545\n",
            "Epoch 3500, Loss 3.128551\n",
            "Epoch 4000, Loss 2.983709\n",
            "Epoch 4500, Loss 2.883058\n",
            "Epoch 5000, Loss 2.813279\n"
          ]
        },
        {
          "output_type": "execute_result",
          "data": {
            "text/plain": [
              "tensor([ 0.4940,  0.0187, -3.9748])"
            ]
          },
          "metadata": {},
          "execution_count": 206
        }
      ]
    },
    {
      "cell_type": "code",
      "source": [
        "params = training_loop(\n",
        "n_epochs = 5000,\n",
        "learning_rate = 0.0001,\n",
        "params = torch.tensor([1.0, 1.0, 0.0]),\n",
        "t_u = t_un,\n",
        "t_c = t_c)\n",
        "params"
      ],
      "metadata": {
        "id": "xEVDWff01gLD",
        "colab": {
          "base_uri": "https://localhost:8080/"
        },
        "outputId": "f2eca39b-3fc3-4fc5-f97e-871293aca3c4"
      },
      "execution_count": 207,
      "outputs": [
        {
          "output_type": "stream",
          "name": "stdout",
          "text": [
            "Epoch 500, Loss 12.978827\n",
            "Epoch 1000, Loss 12.147491\n",
            "Epoch 1500, Loss 11.419821\n",
            "Epoch 2000, Loss 10.779087\n",
            "Epoch 2500, Loss 10.211207\n",
            "Epoch 3000, Loss 9.704861\n",
            "Epoch 3500, Loss 9.250857\n",
            "Epoch 4000, Loss 8.841681\n",
            "Epoch 4500, Loss 8.471140\n",
            "Epoch 5000, Loss 8.134112\n"
          ]
        },
        {
          "output_type": "execute_result",
          "data": {
            "text/plain": [
              "tensor([ 0.3440,  0.3917, -0.9371])"
            ]
          },
          "metadata": {},
          "execution_count": 207
        }
      ]
    },
    {
      "cell_type": "code",
      "source": [
        "import matplotlib.pyplot as plt \n",
        "t_p = model(t_un, *params)\n",
        "t_pm = 0.4940 * t_un **2 + 0.0187 * t_un - 3.9748\n",
        "\n",
        "fig = plt.figure(dpi = 100)\n",
        "plt.xlabel(\"Temperature(°Fahrenheit)\")\n",
        "plt.ylabel(\"Temperature(°Celsius)\")\n",
        "plt.plot(t_u.numpy(), t_p.detach().numpy())\n",
        "plt.plot(t_u.numpy(), t_pm.numpy(), 'o')"
      ],
      "metadata": {
        "colab": {
          "base_uri": "https://localhost:8080/",
          "height": 399
        },
        "id": "_5SYXepxl0KJ",
        "outputId": "79d46118-c726-498f-ab58-24fa203b498f"
      },
      "execution_count": 163,
      "outputs": [
        {
          "output_type": "execute_result",
          "data": {
            "text/plain": [
              "[<matplotlib.lines.Line2D at 0x7f964cb98a10>]"
            ]
          },
          "metadata": {},
          "execution_count": 163
        },
        {
          "output_type": "display_data",
          "data": {
            "image/png": "[encoded data removed]",
            "text/plain": [
              "<Figure size 600x400 with 1 Axes>"
            ]
          },
          "metadata": {
            "needs_background": "light"
          }
        }
      ]
    },
    {
      "cell_type": "markdown",
      "source": [
        "Question 3 - Housing Price Prediction"
      ],
      "metadata": {
        "id": "ALGPsGu4_Jq4"
      }
    },
    {
      "cell_type": "code",
      "source": [
        "import numpy as np \n",
        "import pandas as pd \n",
        "import torch\n",
        "import torchvision\n",
        "import torch.optim as optim\n",
        "# Data Visualisation \n",
        "import matplotlib.pyplot as plt "
      ],
      "metadata": {
        "id": "H8Tf-FtV_S-z"
      },
      "execution_count": 164,
      "outputs": []
    },
    {
      "cell_type": "code",
      "source": [
        "housing = pd.DataFrame(pd.read_csv\n",
        "                  (\"../content/drive/MyDrive/ColabNotebooks/data/Housing.csv\")) \n",
        "housing.head() "
      ],
      "metadata": {
        "id": "Ik2k-tvaw5Yf"
      },
      "execution_count": null,
      "outputs": []
    },
    {
      "cell_type": "code",
      "source": [
        "vars = (np.asarray(housing['area']), np.asarray(housing['bedrooms']),\n",
        "        np.asarray(housing['bathrooms']),np.asarray(housing['stories'])\n",
        "        ,np.asarray(housing['parking'])) #standardize inputs\n",
        "var_s = (vars - np.mean(vars))/np.std(vars)\n",
        "x1 = torch.from_numpy(var_s[0])\n",
        "x2 = torch.from_numpy(var_s[1])\n",
        "x3 = torch.from_numpy(var_s[2])\n",
        "x4 = torch.from_numpy(var_s[3])\n",
        "x5 = torch.from_numpy(var_s[4])"
      ],
      "metadata": {
        "id": "f2osEJZzw6V-"
      },
      "execution_count": 166,
      "outputs": []
    },
    {
      "cell_type": "code",
      "source": [
        "norm1 = np.asarray(housing['price'])\n",
        "#standardize outputs\n",
        "a = np.mean(norm1)\n",
        "b = np.std(norm1)\n",
        "norm_1 = ((norm1-a)/b)\n",
        "\n",
        "\n",
        "tc = torch.from_numpy(norm_1)"
      ],
      "metadata": {
        "id": "EBYwcfi7w9OW"
      },
      "execution_count": 167,
      "outputs": []
    },
    {
      "cell_type": "code",
      "source": [
        "def modelHousing(X5, X4, X3, X2, X1, W5, W4, W3, W2, W1, B):\n",
        "  return W5*X5 + W4*X4 + W3*X3 + W2*X2 + W1*X1 + B\n",
        "def ddw1(X5, X4, X3, X2, X1, W5, W4, W3, W2, W1, B):\n",
        "  return X1\n",
        "def ddw2(X5, X4, X3, X2, X1, W5, W4, W3, W2, W1, B):\n",
        "  return X2\n",
        "def ddw3(X5, X4, X3, X2, X1, W5, W4, W3, W2, W1, B):\n",
        "  return X3\n",
        "def ddw4(X5, X4, X3, X2, X1, W5, W4, W3, W2, W1, B):\n",
        "  return X4\n",
        "def ddw5(X5, X4, X3, X2, X1, W5, W4, W3, W2, W1, B):\n",
        "  return X5\n",
        "def ddb(X5, X4, X3, X2, X1, W5, W4, W3, W2, W1, B):\n",
        "  return 1.0"
      ],
      "metadata": {
        "id": "AbIMye4ZxAjq"
      },
      "execution_count": 168,
      "outputs": []
    },
    {
      "cell_type": "code",
      "source": [
        "def loss_fn(t_p, t_c):\n",
        "  squared_diffs = (t_p - t_c) ** 2\n",
        "  return squared_diffs.mean()"
      ],
      "metadata": {
        "id": "FgkukOhKxE6y"
      },
      "execution_count": 169,
      "outputs": []
    },
    {
      "cell_type": "code",
      "source": [
        "def dloss_fn(t_p, t_c):\n",
        "  dsq_diffs = 2 * (t_p - t_c) / t_p.size(0)\n",
        "  return dsq_diffs"
      ],
      "metadata": {
        "id": "BBDFnxc8xIqk"
      },
      "execution_count": 170,
      "outputs": []
    },
    {
      "cell_type": "code",
      "source": [
        "def grad_fn(t_c, t_p, X5, X4, X3, X2, X1, W5, W4, W3, W2, W1, B):\n",
        "  dloss_dtp = dloss_fn(t_p, t_c)\n",
        "  dloss_dw1 = dloss_dtp * ddw1(X5, X4, X3, X2, X1, W5, W4, W3, W2, W1, B)\n",
        "  dloss_dw2 = dloss_dtp * ddw2(X5, X4, X3, X2, X1, W5, W4, W3, W2, W1, B)\n",
        "  dloss_dw3 = dloss_dtp * ddw3(X5, X4, X3, X2, X1, W5, W4, W3, W2, W1, B)\n",
        "  dloss_dw4 = dloss_dtp * ddw4(X5, X4, X3, X2, X1, W5, W4, W3, W2, W1, B)\n",
        "  dloss_dw5 = dloss_dtp * ddw5(X5, X4, X3, X2, X1, W5, W4, W3, W2, W1, B)\n",
        "  dloss_db = dloss_dtp * ddb(X5, X4, X3, X2, X1, W5, W4, W3, W2, W1, B)\n",
        "  return torch.stack([dloss_dw5.sum(), dloss_dw4.sum(), dloss_dw3.sum(), \n",
        "                      dloss_dw2.sum(), dloss_dw1.sum(), dloss_db.sum()])"
      ],
      "metadata": {
        "id": "VWmS_9yaxKoW"
      },
      "execution_count": 171,
      "outputs": []
    },
    {
      "cell_type": "code",
      "source": [
        "def training_loop(n_epochs, learning_rate, params, X5, X4, X3, X2, X1, t_c):\n",
        "  for epoch in range(1, n_epochs + 1):\n",
        "    w5, w4, w3, w2, w1, b = params\n",
        "\n",
        "    t_p = modelHousing(X5, X4, X3, X2, X1, w5, w4, w3, w2, w1, b)\n",
        "    loss = loss_fn(t_p, t_c)\n",
        "    grad = grad_fn(t_c, t_p, X5, X4, X3, X2, X1, w5, w4, w3, w2, w1, b)\n",
        "\n",
        "    params = params - learning_rate * grad\n",
        "    if epoch % 500 == 0:\n",
        "      print('Epoch %d, Loss %f' % (epoch, float(loss)))\n",
        "  return params"
      ],
      "metadata": {
        "id": "6oMDCdETxLev"
      },
      "execution_count": 172,
      "outputs": []
    },
    {
      "cell_type": "code",
      "source": [
        "training_loop(\n",
        "    n_epochs = 5000, \n",
        "    learning_rate = 0.1, \n",
        "    params = torch.tensor([1.0, 1.0, 1.0, 1.0, 1.0, 0.0]),\n",
        "    X1 = x1,\n",
        "    X2 = x2,\n",
        "    X3 = x3,\n",
        "    X4 = x4,\n",
        "    X5 = x5,\n",
        "    t_c = tc)"
      ],
      "metadata": {
        "colab": {
          "base_uri": "https://localhost:8080/"
        },
        "id": "AgjSwoIwxQvq",
        "outputId": "f5b8ba6e-dcf3-48b4-a6c4-43c22facf535"
      },
      "execution_count": 181,
      "outputs": [
        {
          "output_type": "stream",
          "name": "stdout",
          "text": [
            "Epoch 500, Loss 0.712059\n",
            "Epoch 1000, Loss 0.712054\n",
            "Epoch 1500, Loss 0.712049\n",
            "Epoch 2000, Loss 0.712044\n",
            "Epoch 2500, Loss 0.712039\n",
            "Epoch 3000, Loss 0.712035\n",
            "Epoch 3500, Loss 0.712030\n",
            "Epoch 4000, Loss 0.712025\n",
            "Epoch 4500, Loss 0.712020\n",
            "Epoch 5000, Loss 0.712015\n"
          ]
        },
        {
          "output_type": "execute_result",
          "data": {
            "text/plain": [
              "tensor([0.8315, 0.9011, 0.8492, 0.8507, 0.5627, 0.5344], dtype=torch.float64)"
            ]
          },
          "metadata": {},
          "execution_count": 181
        }
      ]
    },
    {
      "cell_type": "code",
      "source": [
        "training_loop(\n",
        "    n_epochs = 5000, \n",
        "    learning_rate = 0.01, \n",
        "    params = torch.tensor([1.0, 1.0, 1.0, 1.0, 1.0, 0.0]),\n",
        "    X1 = x1,\n",
        "    X2 = x2,\n",
        "    X3 = x3,\n",
        "    X4 = x4,\n",
        "    X5 = x5,\n",
        "    t_c = tc)"
      ],
      "metadata": {
        "colab": {
          "base_uri": "https://localhost:8080/"
        },
        "id": "iJLVuUKFxS-j",
        "outputId": "1fe45bd1-e0f8-48c5-c395-a205492fbb58"
      },
      "execution_count": 182,
      "outputs": [
        {
          "output_type": "stream",
          "name": "stdout",
          "text": [
            "Epoch 500, Loss 0.712536\n",
            "Epoch 1000, Loss 0.712065\n",
            "Epoch 1500, Loss 0.712063\n",
            "Epoch 2000, Loss 0.712062\n",
            "Epoch 2500, Loss 0.712062\n",
            "Epoch 3000, Loss 0.712061\n",
            "Epoch 3500, Loss 0.712061\n",
            "Epoch 4000, Loss 0.712060\n",
            "Epoch 4500, Loss 0.712060\n",
            "Epoch 5000, Loss 0.712059\n"
          ]
        },
        {
          "output_type": "execute_result",
          "data": {
            "text/plain": [
              "tensor([0.8057, 0.8130, 0.8077, 0.8081, 0.5627, 0.4449], dtype=torch.float64)"
            ]
          },
          "metadata": {},
          "execution_count": 182
        }
      ]
    },
    {
      "cell_type": "code",
      "source": [
        "training_loop(\n",
        "    n_epochs = 5000, \n",
        "    learning_rate = 0.001, \n",
        "    params = torch.tensor([1.0, 1.0, 1.0, 1.0, 1.0, 0.0]),\n",
        "    X1 = x1,\n",
        "    X2 = x2,\n",
        "    X3 = x3,\n",
        "    X4 = x4,\n",
        "    X5 = x5,\n",
        "    t_c = tc)"
      ],
      "metadata": {
        "colab": {
          "base_uri": "https://localhost:8080/"
        },
        "id": "fUEZFt9txTyj",
        "outputId": "18ea1029-ec5c-47be-fa26-3597a4a9e6f2"
      },
      "execution_count": 183,
      "outputs": [
        {
          "output_type": "stream",
          "name": "stdout",
          "text": [
            "Epoch 500, Loss 0.798381\n",
            "Epoch 1000, Loss 0.760487\n",
            "Epoch 1500, Loss 0.739229\n",
            "Epoch 2000, Loss 0.727303\n",
            "Epoch 2500, Loss 0.720613\n",
            "Epoch 3000, Loss 0.716860\n",
            "Epoch 3500, Loss 0.714754\n",
            "Epoch 4000, Loss 0.713573\n",
            "Epoch 4500, Loss 0.712910\n",
            "Epoch 5000, Loss 0.712539\n"
          ]
        },
        {
          "output_type": "execute_result",
          "data": {
            "text/plain": [
              "tensor([0.8147, 0.8157, 0.8151, 0.8154, 0.5843, 0.4105], dtype=torch.float64)"
            ]
          },
          "metadata": {},
          "execution_count": 183
        }
      ]
    },
    {
      "cell_type": "code",
      "source": [
        "training_loop(\n",
        "    n_epochs = 5000, \n",
        "    learning_rate = 0.0001, \n",
        "    params = torch.tensor([1.0, 1.0, 1.0, 1.0, 1.0, 0.0]),\n",
        "    X1 = x1,\n",
        "    X2 = x2,\n",
        "    X3 = x3,\n",
        "    X4 = x4,\n",
        "    X5 = x5,\n",
        "    t_c = tc)"
      ],
      "metadata": {
        "colab": {
          "base_uri": "https://localhost:8080/"
        },
        "id": "YhOR75P_xV01",
        "outputId": "a87bfb64-bbc2-4952-ced6-0ffb1a5fe154"
      },
      "execution_count": 184,
      "outputs": [
        {
          "output_type": "stream",
          "name": "stdout",
          "text": [
            "Epoch 500, Loss 0.863469\n",
            "Epoch 1000, Loss 0.851011\n",
            "Epoch 1500, Loss 0.841947\n",
            "Epoch 2000, Loss 0.834252\n",
            "Epoch 2500, Loss 0.827262\n",
            "Epoch 3000, Loss 0.820753\n",
            "Epoch 3500, Loss 0.814637\n",
            "Epoch 4000, Loss 0.808873\n",
            "Epoch 4500, Loss 0.803435\n",
            "Epoch 5000, Loss 0.798304\n"
          ]
        },
        {
          "output_type": "execute_result",
          "data": {
            "text/plain": [
              "tensor([0.9584, 0.9585, 0.9585, 0.9585, 0.8531, 0.0920], dtype=torch.float64)"
            ]
          },
          "metadata": {},
          "execution_count": 184
        }
      ]
    },
    {
      "cell_type": "code",
      "source": [
        "import matplotlib.pyplot as plt \n",
        "t_p = modelHousing(x5, x4, x3, x2, x1, 1.0, 1.0, 1.0, 1.0, 1.0, 0.0)\n",
        "t_pm = (0.8315*x5)+(0.9011*x4)+(0.8492*x3)+(0.8507*x2)+(0.5627*x1)+0.5344\n",
        "#t_pm = (0.8057*x5)+(0.8130*x4)+(0.8077*x3)+(0.8081*x2)+(0.5627*x1)+0.4449\n",
        "#t_pm = (0.8147*x5)+(0.8157*x4)+(0.8151*x3)+(0.8154*x2)+(0.5843*x1)+0.4105\n",
        "#t_pm = (0.9584*x5)+(0.9585*x4)+(0.9585*x3)+(0.9585*x2)+(0.8531*x1)+0.0920\n",
        "\n",
        "fig = plt.figure(dpi = 100)\n",
        "plt.xlabel(\"Normalized Weights (area, bedroom, bathrooms, stories, parking)\")\n",
        "plt.ylabel(\"Normalized Price (Expected-Green) (Actual-Red)\")\n",
        "plt.plot(x5.numpy(), x4.numpy(), x3.numpy(), x2.numpy(), x1.numpy(),\n",
        "         t_p.detach().numpy())\n",
        "plt.plot(x5.numpy(), x4.numpy(), x3.numpy(), x2.numpy(), x1.numpy(),\n",
        "         t_pm.numpy(), 'o')"
      ],
      "metadata": {
        "colab": {
          "base_uri": "https://localhost:8080/",
          "height": 450
        },
        "id": "RgnQrHSnxYF2",
        "outputId": "6aa3ded0-fe98-4a46-ae76-09776c4853b7"
      },
      "execution_count": 180,
      "outputs": [
        {
          "output_type": "execute_result",
          "data": {
            "text/plain": [
              "[<matplotlib.lines.Line2D at 0x7f964c9aaad0>,\n",
              " <matplotlib.lines.Line2D at 0x7f964c9aacd0>,\n",
              " <matplotlib.lines.Line2D at 0x7f964c9aaed0>]"
            ]
          },
          "metadata": {},
          "execution_count": 180
        },
        {
          "output_type": "display_data",
          "data": {
            "image/png": "[encoded data removed]",
            "text/plain": [
              "<Figure size 600x400 with 1 Axes>"
            ]
          },
          "metadata": {
            "needs_background": "light"
          }
        }
      ]
    }
  ]
}